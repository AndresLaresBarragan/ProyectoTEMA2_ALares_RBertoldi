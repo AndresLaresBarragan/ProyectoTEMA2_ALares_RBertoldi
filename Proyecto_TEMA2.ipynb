{
 "cells": [
  {
   "cell_type": "markdown",
   "metadata": {},
   "source": [
    "<img style=\"float: left; margin: 30px 15px 15px 15px;\" src=\"https://pngimage.net/wp-content/uploads/2018/06/logo-iteso-png-5.png\" width=\"300\" height=\"500\" /> \n",
    "    \n",
    "    \n",
    "### <font color='navy'> Simulación de procesos financieros. \n",
    "\n",
    "**Nombres: Andrés Lares Barragán & Rodrigo Martinez Bertoldi** \n",
    "\n",
    "**Fecha: 03/19/21** .\n",
    "\n",
    "**Expediente** : 724055.\n",
    "**Profesor:** Oscar David Jaramillo Zuluaga.\n",
    "    \n",
    "**[Link Github](https://github.com/AndresLaresBarragan/ProyectoTEMA2_ALares_RBertoldi)**\n",
    "# Proyecto TEMA-2"
   ]
  },
  {
   "cell_type": "markdown",
   "metadata": {},
   "source": [
    "### Simulación del Comportamiento de Portafolios"
   ]
  },
  {
   "cell_type": "markdown",
   "metadata": {},
   "source": [
    "### 1.2 Objetivos"
   ]
  },
  {
   "cell_type": "markdown",
   "metadata": {},
   "source": [
    "#### Objetivos Generales\n",
    "Determinar el portafolio con mayor probabilidad de generar un cierto rendimiento en un año."
   ]
  },
  {
   "cell_type": "markdown",
   "metadata": {},
   "source": [
    "#### Objetivos Específicos"
   ]
  },
  {
   "cell_type": "markdown",
   "metadata": {},
   "source": [
    "1. Identificar la composición de varios portafolios por comparar. \n",
    "2. Descargar los precios diarios y calcular los rendimientos de cada activo dentro de los portafolios.\n",
    "3. Simular los rendimientos de cada activo a un año.\n",
    "4. Agrupar los rendimientos para simular el comportamiento de cada portafolio.\n",
    "5. Calcular la probabilidad de que los portafolios generen un rendimiento dado y comparar entre sí."
   ]
  },
  {
   "cell_type": "markdown",
   "metadata": {},
   "source": [
    "### 1.3  Definción del Problema"
   ]
  },
  {
   "cell_type": "markdown",
   "metadata": {},
   "source": [
    "Un inversionista debe decidir en donde invertir su dinero, y tiene diferentes opciones en donde invertir. Se requiere determinar el portafolio con mayor probabilidad de generar un cierto rendimiento dentro de un año, ajustado al nivel de volatilidad. Por lo tanto, es imperativo calcular los rendimientos ajustados al riesgo de cada fondo de inversión."
   ]
  },
  {
   "cell_type": "markdown",
   "metadata": {},
   "source": [
    "### 1.4 Nodos y Variables por Simular"
   ]
  },
  {
   "cell_type": "markdown",
   "metadata": {},
   "source": [
    "Se debe simular los rendimientos de cada activo que componen los fondo de inversión. Posteriormente, se agrupan las distribuciones de los activos dentro de cada fondo de inversión para estimar su comportamiento dentro de un determinado periodo de tiempo."
   ]
  },
  {
   "cell_type": "markdown",
   "metadata": {},
   "source": [
    "### 1.5 Hipótesis y Supuestos"
   ]
  },
  {
   "cell_type": "markdown",
   "metadata": {},
   "source": [
    "Las hipótesis a las que se apegará para este proyecto es que que los rendimientos de todos los activos que se simulan, tienen una distribución normal, también que los mercados son eficientes, es decir que el precio de los activos refleja toda la información disponible y que todos los participantes del mercado buscan maximizar sus utilidades."
   ]
  }
 ],
 "metadata": {
  "kernelspec": {
   "display_name": "Python 3",
   "language": "python",
   "name": "python3"
  },
  "language_info": {
   "codemirror_mode": {
    "name": "ipython",
    "version": 3
   },
   "file_extension": ".py",
   "mimetype": "text/x-python",
   "name": "python",
   "nbconvert_exporter": "python",
   "pygments_lexer": "ipython3",
   "version": "3.8.5"
  }
 },
 "nbformat": 4,
 "nbformat_minor": 4
}
